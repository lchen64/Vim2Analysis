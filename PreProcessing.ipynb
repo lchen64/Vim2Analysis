{
 "cells": [
  {
   "cell_type": "code",
   "execution_count": 3,
   "metadata": {},
   "outputs": [],
   "source": [
    "import numpy as np\n",
    "import tables\n",
    "from datetime import datetime\n",
    "chunk_number = 400\n",
    "chunk_length = 16\n",
    "C3D_input_size = 112\n",
    "sliding_window_size = 16\n",
    "sliding_window_stride = 1\n",
    "number_of_window = 10\n",
    "number_of_frame_to_load = number_of_window + sliding_window_size-1\n",
    "resized_stimulus_path = \"./resized_stimulus.npy\"\n",
    "extracted_features_path = \"./extracted_feature.npy\""
   ]
  },
  {
   "cell_type": "code",
   "execution_count": 1,
   "metadata": {},
   "outputs": [],
   "source": [
    "%load_ext autoreload\n",
    "%autoreload 1\n",
    "%aimport load"
   ]
  },
  {
   "cell_type": "code",
   "execution_count": 23,
   "metadata": {},
   "outputs": [],
   "source": [
    "def init_file(path):\n",
    "    with open(path,\"w\") as myfile:\n",
    "        myfile.write(\"\")\n",
    "    myfile.close()\n",
    "init_file(\"./test.txt\")\n",
    "with open(\"./test.txt\", \"a\") as myfile:\n",
    "    myfile.write(\"appended text\\n\")\n",
    "myfile.close()"
   ]
  },
  {
   "cell_type": "code",
   "execution_count": 10,
   "metadata": {},
   "outputs": [
    {
     "name": "stdout",
     "output_type": "stream",
     "text": [
      "Prefix: |xxxxxxxxxxxxxxxxxxxx| 100.0% Complete\n"
     ]
    }
   ],
   "source": [
    "def printProgressBar (iteration, total, prefix = '', suffix = '', decimals = 1, length = 100, fill = 'x'):\n",
    "    percent = (\"{0:.\" + str(decimals) + \"f}\").format(100 * (iteration / float(total)))\n",
    "    filledLength = int(length * iteration // total)\n",
    "    bar = fill * filledLength + '-' * (length - filledLength)\n",
    "    print('\\r%s |%s| %s%% %s' % (prefix, bar, percent, suffix), end = '\\r')\n",
    "    # Print New Line on Complete\n",
    "    if iteration == total: \n",
    "        print()\n",
    "\n",
    "printProgressBar(0, 10, prefix = 'Prefix:', suffix = 'Complete', length = 20)\n",
    "for i in range(10):\n",
    "    # Do something\n",
    "    time.sleep(1)\n",
    "    printProgressBar(i + 1, 10, prefix = 'Prefix:', suffix = 'Complete', length = 20)\n"
   ]
  },
  {
   "cell_type": "code",
   "execution_count": 4,
   "metadata": {},
   "outputs": [
    {
     "name": "stdout",
     "output_type": "stream",
     "text": [
      "Stimulus Loaded. Shape:(108000, 3, 128, 128)\n",
      "Stimulus sliced. Shape:(25, 3, 128, 128)\n"
     ]
    }
   ],
   "source": [
    "#### Load data and take a slice of it ####\n",
    "# slice size defined by chunk number and chunk length\n",
    "\n",
    "stimulus_train = load.load_train_stimulus()\n",
    "print(\"Stimulus Loaded. Shape:\" + str(stimulus_train.shape))\n",
    "stimulus_train_slice = stimulus_train[:number_of_frame_to_load, :, :, : ]\n",
    "print(\"Stimulus sliced. Shape:\" + str(stimulus_train_slice.shape))"
   ]
  },
  {
   "cell_type": "code",
   "execution_count": 5,
   "metadata": {},
   "outputs": [
    {
     "name": "stdout",
     "output_type": "stream",
     "text": [
      "Data transferred. Shape:(25, 3, 112, 112)\n",
      "Saved to./resized_stimulus.npy\n"
     ]
    }
   ],
   "source": [
    "##### resize images from 128 to 112 and save to file #####\n",
    "# WARNING: takes time and may crush memory\n",
    "\n",
    "import skimage.transform as st\n",
    "resized = np.empty((number_of_frame_to_load,3,C3D_input_size,C3D_input_size))\n",
    "\n",
    "# Dumb\n",
    "i = 0\n",
    "for image in stimulus_train_slice:\n",
    "    resized[i] = st.resize(image, (3, C3D_input_size, C3D_input_size))\n",
    "    i+=1\n",
    "\n",
    "# smarter way\n",
    "#resize_stimulus_train = st.resize(stimulus_train, (number_of_frame_to_load, 3, 116, 116))\n",
    "    \n",
    "print(\"Data transferred. Shape:\" + str(resized.shape))\n",
    "# Save to file\n",
    "np.save(resized_stimulus_path, resized)\n",
    "print(\"Saved to\" + resized_stimulus_path)"
   ]
  },
  {
   "cell_type": "code",
   "execution_count": 6,
   "metadata": {},
   "outputs": [
    {
     "name": "stdout",
     "output_type": "stream",
     "text": [
      "Loaded. shape(25, 3, 112, 112)\n",
      "Tranpsed. shape(25, 112, 112, 3)\n"
     ]
    }
   ],
   "source": [
    "#### Load resized images from files ####\n",
    "resized = np.load(resized_stimulus_path)\n",
    "print(\"Loaded. shape\" + str(resized.shape))\n",
    "resized = np.transpose(resized,(0,2,3,1))\n",
    "print(\"Tranpsed. shape\" + str(resized.shape))"
   ]
  },
  {
   "cell_type": "code",
   "execution_count": 9,
   "metadata": {
    "scrolled": true
   },
   "outputs": [
    {
     "name": "stdout",
     "output_type": "stream",
     "text": [
      "Processed Input shape: (10, 16, 112, 112, 3)\n",
      "Test passed.\n"
     ]
    }
   ],
   "source": [
    "### Chunking using sliding window ###\n",
    "\n",
    "# resized.shape = (6400, 112, 112, 3)\n",
    "processed_input = np.zeros((numbers_of_window,sliding_window_size, C3D_input_size, C3D_input_size, 3))\n",
    "\n",
    "for i in range(number_of_window):\n",
    "    processed_input[i,:,:,:,:] = resized[i:i+sliding_window_size, :,:,:]\n",
    "\n",
    "print(\"Processed Input shape: \"+ str(processed_input.shape))\n",
    "\n",
    "### Checking the result of the sliding window ###\n",
    "assert processed_input[0,2,:1,:1,:1] == processed_input[1,1,:1,:1,:1]\n",
    "assert processed_input[0,2,:1,:1,:1] == processed_input[1,1,:1,:1,:1]\n",
    "print(\"Test passed.\")"
   ]
  },
  {
   "cell_type": "code",
   "execution_count": 10,
   "metadata": {},
   "outputs": [
    {
     "name": "stderr",
     "output_type": "stream",
     "text": [
      "Using TensorFlow backend.\n"
     ]
    },
    {
     "name": "stdout",
     "output_type": "stream",
     "text": [
      "Weight loaded\n",
      "Model: \"sequential_1\"\n",
      "_________________________________________________________________\n",
      "Layer (type)                 Output Shape              Param #   \n",
      "=================================================================\n",
      "conv1 (Conv3D)               (None, 16, 112, 112, 64)  5248      \n",
      "_________________________________________________________________\n",
      "pool1 (MaxPooling3D)         (None, 16, 56, 56, 64)    0         \n",
      "_________________________________________________________________\n",
      "conv2 (Conv3D)               (None, 16, 56, 56, 128)   221312    \n",
      "_________________________________________________________________\n",
      "pool2 (MaxPooling3D)         (None, 8, 28, 28, 128)    0         \n",
      "_________________________________________________________________\n",
      "conv3a (Conv3D)              (None, 8, 28, 28, 256)    884992    \n",
      "_________________________________________________________________\n",
      "conv3b (Conv3D)              (None, 8, 28, 28, 256)    1769728   \n",
      "_________________________________________________________________\n",
      "pool3 (MaxPooling3D)         (None, 4, 14, 14, 256)    0         \n",
      "_________________________________________________________________\n",
      "conv4a (Conv3D)              (None, 4, 14, 14, 512)    3539456   \n",
      "_________________________________________________________________\n",
      "conv4b (Conv3D)              (None, 4, 14, 14, 512)    7078400   \n",
      "_________________________________________________________________\n",
      "pool4 (MaxPooling3D)         (None, 2, 7, 7, 512)      0         \n",
      "_________________________________________________________________\n",
      "conv5a (Conv3D)              (None, 2, 7, 7, 512)      7078400   \n",
      "_________________________________________________________________\n",
      "conv5b (Conv3D)              (None, 2, 7, 7, 512)      7078400   \n",
      "_________________________________________________________________\n",
      "zeropad5 (ZeroPadding3D)     (None, 2, 8, 8, 512)      0         \n",
      "_________________________________________________________________\n",
      "pool5 (MaxPooling3D)         (None, 1, 4, 4, 512)      0         \n",
      "_________________________________________________________________\n",
      "flatten_1 (Flatten)          (None, 8192)              0         \n",
      "_________________________________________________________________\n",
      "fc6 (Dense)                  (None, 4096)              33558528  \n",
      "_________________________________________________________________\n",
      "dropout_1 (Dropout)          (None, 4096)              0         \n",
      "_________________________________________________________________\n",
      "fc7 (Dense)                  (None, 4096)              16781312  \n",
      "_________________________________________________________________\n",
      "dropout_2 (Dropout)          (None, 4096)              0         \n",
      "_________________________________________________________________\n",
      "fc8 (Dense)                  (None, 487)               1995239   \n",
      "=================================================================\n",
      "Total params: 79,991,015\n",
      "Trainable params: 79,991,015\n",
      "Non-trainable params: 0\n",
      "_________________________________________________________________\n"
     ]
    }
   ],
   "source": [
    "### Load pre-trained model and create extractor ###\n",
    "\n",
    "import h5py\n",
    "import tensorflow as tf\n",
    "\n",
    "from keras.models import Model\n",
    "from keras.models import model_from_json\n",
    "from keras.models import Sequential\n",
    "from keras.layers.core import Dense, Dropout, Flatten\n",
    "from keras.layers.convolutional import Convolution3D, MaxPooling3D, ZeroPadding3D\n",
    "from keras.optimizers import SGD\n",
    "from keras import regularizers\n",
    "from keras.models import Sequential, Model\n",
    "from keras.layers import Input, Dense, Dropout, Flatten\n",
    "from keras.layers.convolutional import Conv3D, MaxPooling3D, ZeroPadding3D\n",
    "\n",
    "def create_model():\n",
    "    \"\"\" Creates model object with the sequential API:\n",
    "    https://keras.io/models/sequential/\n",
    "    \"\"\"\n",
    "\n",
    "    model = Sequential()\n",
    "    input_shape = (16, 112, 112, 3)\n",
    "\n",
    "    model.add(Conv3D(64, (3, 3, 3), activation='relu',\n",
    "                     padding='same', name='conv1',\n",
    "                     input_shape=input_shape))\n",
    "    model.add(MaxPooling3D(pool_size=(1, 2, 2), strides=(1, 2, 2),\n",
    "                           padding='valid', name='pool1'))\n",
    "    # 2nd layer group\n",
    "    model.add(Conv3D(128, (3, 3, 3), activation='relu',\n",
    "                     padding='same', name='conv2'))\n",
    "    model.add(MaxPooling3D(pool_size=(2, 2, 2), strides=(2, 2, 2),\n",
    "                           padding='valid', name='pool2'))\n",
    "    # 3rd layer group\n",
    "    model.add(Conv3D(256, (3, 3, 3), activation='relu',\n",
    "                     padding='same', name='conv3a'))\n",
    "    model.add(Conv3D(256, (3, 3, 3), activation='relu',\n",
    "                     padding='same', name='conv3b'))\n",
    "    model.add(MaxPooling3D(pool_size=(2, 2, 2), strides=(2, 2, 2),\n",
    "                           padding='valid', name='pool3'))\n",
    "    # 4th layer group\n",
    "    model.add(Conv3D(512, (3, 3, 3), activation='relu',\n",
    "                     padding='same', name='conv4a'))\n",
    "    model.add(Conv3D(512, (3, 3, 3), activation='relu',\n",
    "                     padding='same', name='conv4b'))\n",
    "    model.add(MaxPooling3D(pool_size=(2, 2, 2), strides=(2, 2, 2),\n",
    "                           padding='valid', name='pool4'))\n",
    "    # 5th layer group\n",
    "    model.add(Conv3D(512, (3, 3, 3), activation='relu',\n",
    "                     padding='same', name='conv5a'))\n",
    "    model.add(Conv3D(512, (3, 3, 3), activation='relu',\n",
    "                     padding='same', name='conv5b'))\n",
    "    model.add(ZeroPadding3D(padding=((0, 0), (0, 1), (0, 1)), name='zeropad5'))\n",
    "    model.add(MaxPooling3D(pool_size=(2, 2, 2), strides=(2, 2, 2),\n",
    "                           padding='valid', name='pool5'))\n",
    "    model.add(Flatten())\n",
    "    # FC layers group\n",
    "    model.add(Dense(4096, activation='relu', name='fc6'))\n",
    "    model.add(Dropout(.5))\n",
    "    model.add(Dense(4096, activation='relu', name='fc7'))\n",
    "    model.add(Dropout(.5))\n",
    "    model.add(Dense(487, activation='softmax', name='fc8'))\n",
    "\n",
    "    return model\n",
    "\n",
    "def intermediate_layer_model(layer, model):\n",
    "\n",
    " \treturn Model(inputs=model.input, outputs=model.get_layer(layer).output)\n",
    "\n",
    "def feature_hook(layer, model, data):\n",
    "\n",
    "\tmodel = intermediate_layer_model(layer, model)\n",
    "\treturn model(data)\n",
    "\n",
    "def create_features_extractor(model, layer_name):\n",
    "    extractor = Model(inputs= model.input,\n",
    "                      outputs= model.get_layer(layer_name).output)\n",
    "    return extractor\n",
    "\n",
    "\n",
    "model = create_model()\n",
    "model.load_weights(\"c3d-sports1M_weights.h5\")\n",
    "print(\"Weight loaded\")\n",
    "\n",
    "#model.summary()\n",
    "\n",
    "output_layer_name = 'fc6'\n",
    "extractor = create_features_extractor(model,output_layer_name)"
   ]
  },
  {
   "cell_type": "code",
   "execution_count": 20,
   "metadata": {},
   "outputs": [
    {
     "name": "stdout",
     "output_type": "stream",
     "text": [
      "Feature extracted. Shape: (10, 4096)\n",
      "Run Time = 0:00:06.428225\n"
     ]
    }
   ],
   "source": [
    "### Extract feature ###\n",
    "start_time = datetime.now()\n",
    "extracted_feature = extractor.predict(processed_input)\n",
    "end_time = datetime.now()\n",
    "print(\"Feature extracted. Shape: \"+ str(extracted_feature.shape))\n",
    "print(\"Run Time = \"+str(end_time - start_time))"
   ]
  },
  {
   "cell_type": "code",
   "execution_count": 49,
   "metadata": {},
   "outputs": [
    {
     "name": "stdout",
     "output_type": "stream",
     "text": [
      "Stimulus chunked. 400 chunks with shape (16, 3, 112, 112)\n",
      "Transposed. Shape: (400, 16, 112, 112, 3)\n"
     ]
    }
   ],
   "source": [
    "### Chunking WITHOUT sliding window ###\n",
    "\n",
    "# End result shape should be= (n, 16, 112, 112, 3)\n",
    "resize_stimulus_train_chunk = np.array_split(resized,chunk_number)\n",
    "print(\"Stimulus chunked. \" + str(len(resize_stimulus_train_chunk)) + \" chunks with shape \"+str(resize_stimulus_train_chunk[0].shape))\n",
    "processed_input = np.zeros((chunk_number,16, 112, 112, 3))\n",
    "i = 0\n",
    "for chunk in resize_stimulus_train_chunk:\n",
    "    processed_input[i,:,:,:,:] = np.transpose(resize_stimulus_train_chunk[0],(0,2,3,1))\n",
    "    #np.transpose(resize_stimulus_train_chunk[i],(0,2,3,1))\n",
    "print('Transposed. Shape: '+ str(processed_input.shape))"
   ]
  }
 ],
 "metadata": {
  "kernelspec": {
   "display_name": "Python 3",
   "language": "python",
   "name": "python3"
  },
  "language_info": {
   "codemirror_mode": {
    "name": "ipython",
    "version": 3
   },
   "file_extension": ".py",
   "mimetype": "text/x-python",
   "name": "python",
   "nbconvert_exporter": "python",
   "pygments_lexer": "ipython3",
   "version": "3.7.6"
  }
 },
 "nbformat": 4,
 "nbformat_minor": 4
}
